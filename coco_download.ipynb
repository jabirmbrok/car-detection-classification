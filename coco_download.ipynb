{
 "cells": [
  {
   "cell_type": "code",
   "execution_count": null,
   "id": "3cf813a9",
   "metadata": {},
   "outputs": [
    {
     "name": "stderr",
     "output_type": "stream",
     "text": [
      "100%|██████████| 173/173 [05:39<00:00,  1.96s/it]"
     ]
    },
    {
     "name": "stdout",
     "output_type": "stream",
     "text": [
      "173 gambar yang mengandung ketiga kategori telah diunduh!\n"
     ]
    },
    {
     "name": "stderr",
     "output_type": "stream",
     "text": [
      "\n"
     ]
    }
   ],
   "source": [
    "import json\n",
    "import os\n",
    "import requests\n",
    "from tqdm import tqdm\n",
    "\n",
    "annotations_file = 'datasets/coco_car/annotations/instances_val2017.json'\n",
    "\n",
    "output_folder = 'coco_car/val'\n",
    "\n",
    "if not os.path.exists(output_folder):\n",
    "    os.makedirs(output_folder)\n",
    "\n",
    "with open(annotations_file, 'r') as f:\n",
    "    coco_data = json.load(f)\n",
    "\n",
    "category_ids = [3, 4, 8]  \n",
    "\n",
    "target_images = []\n",
    "\n",
    "image_annotations = {}\n",
    "\n",
    "for annotation in coco_data['annotations']:\n",
    "    if annotation['category_id'] in category_ids:\n",
    "        image_id = annotation['image_id']\n",
    "        if image_id not in image_annotations:\n",
    "            image_annotations[image_id] = set()\n",
    "        image_annotations[image_id].add(annotation['category_id'])\n",
    "\n",
    "for image_id, categories in image_annotations.items():\n",
    "    if len(categories) == 2: \n",
    "        for image in coco_data['images']:\n",
    "            if image['id'] == image_id:\n",
    "                target_images.append(image['file_name'])\n",
    "                break\n",
    "\n",
    "for img_name in tqdm(target_images):\n",
    "    img_url = f\"http://images.cocodataset.org/val2017/{img_name}\"\n",
    "    img_data = requests.get(img_url).content\n",
    "    img_path = os.path.join(output_folder, img_name)\n",
    "    with open(img_path, 'wb') as f:\n",
    "        f.write(img_data)\n",
    "\n",
    "print(f\"{len(target_images)} gambar yang mengandung ketiga kategori telah diunduh!\")\n"
   ]
  },
  {
   "cell_type": "code",
   "execution_count": null,
   "id": "c30a02d6",
   "metadata": {},
   "outputs": [],
   "source": [
    "import json\n",
    "import os\n",
    "import requests\n",
    "from tqdm import tqdm\n",
    "\n",
    "annotations_file = 'datasets/coco_car/annotations/instances_train2017.json'\n",
    "\n",
    "output_folder = 'coco_car/train'\n",
    "\n",
    "if not os.path.exists(output_folder):\n",
    "    os.makedirs(output_folder)\n",
    "\n",
    "with open(annotations_file, 'r') as f:\n",
    "    coco_data = json.load(f)\n",
    "\n",
    "category_ids = [3, 4]  \n",
    "\n",
    "target_images = []\n",
    "\n",
    "image_annotations = {}\n",
    "\n",
    "for annotation in coco_data['annotations']:\n",
    "    if annotation['category_id'] in category_ids:\n",
    "        image_id = annotation['image_id']\n",
    "        if image_id not in image_annotations:\n",
    "            image_annotations[image_id] = set()\n",
    "        image_annotations[image_id].add(annotation['category_id'])\n",
    "\n",
    "for image_id, categories in image_annotations.items():\n",
    "    if len(categories) == 2: \n",
    "        for image in coco_data['images']:\n",
    "            if image['id'] == image_id:\n",
    "                target_images.append(image['file_name'])\n",
    "                break\n",
    "\n",
    "for img_name in tqdm(target_images):\n",
    "    img_url = f\"http://images.cocodataset.org/train2017/{img_name}\"\n",
    "    img_data = requests.get(img_url).content\n",
    "    img_path = os.path.join(output_folder, img_name)\n",
    "    with open(img_path, 'wb') as f:\n",
    "        f.write(img_data)\n",
    "\n",
    "print(f\"{len(target_images)} gambar yang mengandung ketiga kategori telah diunduh!\")"
   ]
  }
 ],
 "metadata": {
  "kernelspec": {
   "display_name": "yolo",
   "language": "python",
   "name": "python3"
  },
  "language_info": {
   "codemirror_mode": {
    "name": "ipython",
    "version": 3
   },
   "file_extension": ".py",
   "mimetype": "text/x-python",
   "name": "python",
   "nbconvert_exporter": "python",
   "pygments_lexer": "ipython3",
   "version": "3.9.21"
  }
 },
 "nbformat": 4,
 "nbformat_minor": 5
}
